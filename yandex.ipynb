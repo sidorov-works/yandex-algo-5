{
 "cells": [
  {
   "cell_type": "markdown",
   "id": "0a0ac149-7942-4b3c-b5a8-fe2439cd454c",
   "metadata": {},
   "source": [
    "# 5-1-B. Футбольный комментатор\n",
    "\n",
    "## Идея\n",
    "\n",
    "Обозначим за `f` общее количество забитых мячей первой командой в двух матчах, за `s` - общее количество мячей второй команды. \n",
    "\n",
    "Если первая команда уже забила мячей больше, чем вторая (`f > s`), то ответ – `0` (уже все сделано). В противном случае первой команде необходимо:\n",
    "\n",
    "1. Сравнять общий счет, то есть забить еще `s - f` мячей.\n",
    "2. Если при равном общем счете, первая команда лидирует по количеству голов в гостевом матче, то больше забивать не обязательно.\n",
    "3. Если же при равном общем количестве голов на счету второй команды столько же (или больше) гостевых голов, сколько и у первой команды, то необходимо забить еще хотя бы один мяч.\n",
    "\n",
    "Аккуратно переписываем всё это в код:"
   ]
  },
  {
   "cell_type": "code",
   "execution_count": 2,
   "id": "67ea8c6a-a953-4570-9a8b-9f6e91eae116",
   "metadata": {},
   "outputs": [
    {
     "name": "stdout",
     "output_type": "stream",
     "text": [
      "2\n"
     ]
    }
   ],
   "source": [
    "# Данные на вход\n",
    "g = []\n",
    "g.append(list(map(int, input().split(':')))) # Результаты первого матча\n",
    "g.append(list(map(int, input().split(':')))) # Текущий счет во втором матче\n",
    "f = g[0][0] + g[1][0] # Сколько голов забила первая команда за два матча\n",
    "s = g[0][1] + g[1][1] # Сколько голов забила вторая команда за два матча\n",
    "\n",
    "# 1, если первую игру первая команда провела «дома», или 2, если «в гостях»\n",
    "home = int(input())\n",
    "\n",
    "# Если общий счет в пользу первой команды – то она уже побеждает\n",
    "if f > s:\n",
    "    print(0)\n",
    "    \n",
    "# Если идет гостевой матч для первой команды,\n",
    "elif home == 1:\n",
    "    # то необходимо как минимум сравнять общий счет за 2 матча.\n",
    "    # Если при равном общем счете вторая команда будет все равно лидировать\n",
    "    # по количеству голов в гостевом матче (или кол-во гостевых голов будет равным), \n",
    "    # то первой команде необходимо забить еще минимум один гол сверху\n",
    "    res = s - f + (1 if g[0][1] >= (g[1][0] + s - f) else 0)\n",
    "    print(res)\n",
    "    \n",
    "# Если идет домашний матч для первой команды\n",
    "else: \n",
    "    # и при этом в первом (гостевом) матче она забила больше голов,\n",
    "    # чем вторая каманда в текущем матче,\n",
    "    # то достаточно просто сравнять общий счет.\n",
    "    # Если же первая команда не показала явного преимущества\n",
    "    # по количеству мячей, забитых в гостевом матче, то теперь ей необходимо\n",
    "    # сравнять счет + забить еще минимум один гол\n",
    "    res = s - f + (0 if (g[0][0] > g[1][1]) else 1)\n",
    "    print(res)"
   ]
  },
  {
   "cell_type": "markdown",
   "id": "31970cc1-2066-462c-aa2a-4222d537ebbc",
   "metadata": {},
   "source": [
    "# 5-1-G. Разрушить казарму"
   ]
  },
  {
   "cell_type": "code",
   "execution_count": 1,
   "id": "c64bba35-28f0-455e-854b-afd4c9c7d9e7",
   "metadata": {},
   "outputs": [
    {
     "name": "stdout",
     "output_type": "stream",
     "text": [
      "1\n"
     ]
    }
   ],
   "source": [
    "x = int(input())\n",
    "y = int(input())\n",
    "p = int(input())\n",
    "\n",
    "# Функция, моделирующая ход сражения\n",
    "def action(x=x, y=y, p=p, skip=0):\n",
    "\n",
    "    # Сразу обработаем особые случаи:\n",
    "    # если база сразу уже разрушена, то никаких раундов для победы не требуется\n",
    "    if y == 0: \n",
    "        return 0   \n",
    "    # побеждаем уже в первом раунде (солдаты врага не успеют сгенерироваться)\n",
    "    elif x >= y: \n",
    "        return 1\n",
    "\n",
    "    # Итак, в первом же раунде победить не удалось...\n",
    "    else: \n",
    "        # зададим нач. условия на второй раунд\n",
    "        n = 2\n",
    "        p_sum = p\n",
    "        y -= x\n",
    "\n",
    "        while True:\n",
    "            # Проверим, можем ли мы сейчас уничтожить базу и убить всех солдат\n",
    "            if x >= y + p_sum:\n",
    "                return n\n",
    "\n",
    "            # Сможем ли прямо сейчас уничтожить базу и суметь победить в дальнейшем\n",
    "            if x >= y \\\n",
    "            and (x_nxt := (x - (p_nxt := (p_sum - (x - y))))) / p_nxt + 1 > ((p_nxt / x_nxt) if x_nxt else float('inf'))\\\n",
    "            and x_nxt > 0:\n",
    "                if skip > 0:\n",
    "                    skip -= 1\n",
    "                else:\n",
    "                    x = x_nxt\n",
    "                    p_sum = p_nxt\n",
    "                    while p_sum > 0:\n",
    "                        p_sum -= x\n",
    "                        x -= p_sum\n",
    "                        n += 1\n",
    "                    return n\n",
    "\n",
    "            if p >= x:\n",
    "                return float('inf')\n",
    "\n",
    "            n += 1\n",
    "            y -= (x - p)\n",
    "\n",
    "res = min(action(), action(skip=1))\n",
    "if res == float('inf'):\n",
    "    res = -1\n",
    "print(res)"
   ]
  },
  {
   "cell_type": "code",
   "execution_count": null,
   "id": "b0596b7f-5556-42f2-8369-53d0c4e4f22f",
   "metadata": {},
   "outputs": [],
   "source": [
    "from statistics import median, median_high, median_low\n",
    "\n",
    "n = int(input())\n",
    "\n",
    "# Сохраним по отдельности массивы с координатами по гориз. и вертикали\n",
    "y_coords = []\n",
    "x_coords = []\n",
    "for _ in range(n):\n",
    "    coord = list(map(int, input().split()))\n",
    "    x_coords.append(coord[1] - 1)\n",
    "    y_coords.append(coord[0] - 1)\n",
    "\n",
    "y_moves = 0\n",
    "\n",
    "# Для начала разберемся с \"вертикальными\" ходами:\n",
    "# каждый корабль должен встать в ту строку, к которой он ближе\n",
    "y_coords.sort()\n",
    "for i, y in enumerate(y_coords):\n",
    "    y_moves += abs(i - y)\n",
    "\n",
    "# Теперь посчитаем минимум для \"горизонтальных\" ходов.\n",
    "# Чтобы не перебирать все воможные столбцы, поищем на медианном столбце\n",
    "if n % 2:\n",
    "    check_cols = [median(x_coords)]\n",
    "else: # или двух \"медианных\" столбцах\n",
    "    check_cols = list({median_low(x_coords), median_high(x_coords)})\n",
    "\n",
    "min_x_moves = float('inf')\n",
    "for col in check_cols: # В этом цикле всего одна или две итерации \n",
    "    x_moves = 0\n",
    "    for x in x_coords:\n",
    "        x_moves += abs(x - col)\n",
    "        if x_moves >= min_x_moves:\n",
    "            break\n",
    "    min_x_moves = min(min_x_moves, x_moves)\n",
    "\n",
    "print(min_x_moves + y_moves)"
   ]
  },
  {
   "cell_type": "code",
   "execution_count": 8,
   "id": "be3f1637",
   "metadata": {},
   "outputs": [
    {
     "name": "stdout",
     "output_type": "stream",
     "text": [
      "2\n"
     ]
    }
   ],
   "source": [
    "# Продавец рыбы\n",
    "\n",
    "_, k = list(map(int, input().split()))\n",
    "p = list(map(int, input().split()))\n",
    "\n",
    "res = -float('inf')\n",
    "for i, buy in enumerate(p[: -1]):\n",
    "    res = max(res, max(p[i + 1: i + k + 1]) - buy)\n",
    "\n",
    "print(max(0, res))"
   ]
  },
  {
   "cell_type": "markdown",
   "id": "3f585e2c",
   "metadata": {},
   "source": [
    "# 5-2-G Амбициозная улитка"
   ]
  },
  {
   "cell_type": "code",
   "execution_count": null,
   "id": "22a616be",
   "metadata": {},
   "outputs": [],
   "source": [
    "# Улитка\n",
    "\n",
    "n = int(input())\n",
    "\n",
    "pos_sum = 0 # Сумма разностей \"подъем минус падение\" для \"положительных\" ягод\n",
    "\n",
    "pos_i = [] # номера \"положительных\" ягод\n",
    "neg_i = [] # номера \"отрицательных\" ягод\n",
    "\n",
    "worst_down_pos = 0          # Наибольшее падение среди \"положительых\" ягод,\n",
    "worst_down_pos_i = 0        # номер ягоды с этим падением\n",
    "worst_down_pos_i_ind = -1   # и индекс этой ягоды в списке \"положительных\"\n",
    "\n",
    "best_up_neg = 0             # Наибольший подъем среди \"отрицательных\" ягод,\n",
    "best_up_neg_i = 0           # номер ягоды с таким подъемом\n",
    "best_up_neg_i_ind = -1      # # и индекс этой ягоды в списке \"отрицательных\"\n",
    "\n",
    "# В цикле будем принимать данные из стандартного ввода\n",
    "# и сразу их обрабатывать\n",
    "for i in range(n):\n",
    "    up, down = list(map(int, input().split()))\n",
    "    # Если ввели \"положительную\" ягоду\n",
    "    if (delta := up - down) > 0:  \n",
    "        # сохраним номер очередной \"положительной\" ягоды\n",
    "        pos_i.append(i + 1)\n",
    "        # учтем прирост от ягоды в общем приросте от \"положительных\" ягод\n",
    "        pos_sum += delta\n",
    "        # проверим на наибольшее падение среди \"положительных\" ягод\n",
    "        if worst_down_pos < down:\n",
    "            worst_down_pos = down\n",
    "            worst_down_pos_i = i + 1\n",
    "            worst_down_pos_i_ind = len(pos_i) - 1\n",
    "    else: # Если ввели \"отрицательную\" (либо \"нулевую\") ягоду,\n",
    "        # сохраним номер очередной \"отрицательной\" ягоды\n",
    "        neg_i.append(i + 1)\n",
    "        # проверим на наибольший подъем среди \"отрицательных\" ягод\n",
    "        if best_up_neg < up:\n",
    "            best_up_neg = up\n",
    "            best_up_neg_i = i + 1\n",
    "            best_up_neg_i_ind = len(neg_i) - 1\n",
    "\n",
    "# Если самый большой подъем \"отрицательной\" ягоды превосходит самое большое падение \"положительной\",\n",
    "if best_up_neg > worst_down_pos:\n",
    "    # то в максимальной высоте необходимо учесть такую \"отрицательную\" ягоду\n",
    "    print(pos_sum + best_up_neg)\n",
    "    print(*pos_i, best_up_neg_i, *neg_i[: best_up_neg_i_ind], *neg_i[best_up_neg_i_ind + 1:])\n",
    "# Иначе, вклад даже самого большого подъема \"отрицательной\" ягоды не имеет значения\n",
    "# и мы просто ставим положительную ягоду с максимальным падением в последней среди положительных\n",
    "else:\n",
    "    print(pos_sum + worst_down_pos)\n",
    "    print(*pos_i[: worst_down_pos_i_ind], *pos_i[worst_down_pos_i_ind + 1: ], worst_down_pos_i, *neg_i)"
   ]
  }
 ],
 "metadata": {
  "kernelspec": {
   "display_name": "Python 3",
   "language": "python",
   "name": "python3"
  },
  "language_info": {
   "codemirror_mode": {
    "name": "ipython",
    "version": 3
   },
   "file_extension": ".py",
   "mimetype": "text/x-python",
   "name": "python",
   "nbconvert_exporter": "python",
   "pygments_lexer": "ipython3",
   "version": "3.11.2"
  }
 },
 "nbformat": 4,
 "nbformat_minor": 5
}
