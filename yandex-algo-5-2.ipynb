{
 "cells": [
  {
   "cell_type": "code",
   "execution_count": null,
   "id": "b0596b7f-5556-42f2-8369-53d0c4e4f22f",
   "metadata": {},
   "outputs": [],
   "source": [
    "from statistics import median\n",
    "\n",
    "n = int(input())\n",
    "\n",
    "# Сохраним по отдельности массивы с координатами по гориз. и вертикали\n",
    "y_coords = []\n",
    "x_coords = []\n",
    "for _ in range(n):\n",
    "    coord = list(map(int, input().split()))\n",
    "    x_coords.append(coord[1] - 1)\n",
    "    y_coords.append(coord[0] - 1)\n",
    "\n",
    "y_moves = 0\n",
    "\n",
    "# Для начала разберемся с \"вертикальными\" ходами:\n",
    "# каждый корабль должен встать в ту строку, к которой он ближе\n",
    "y_coords.sort()\n",
    "for i, y in enumerate(y_coords):\n",
    "    y_moves += abs(i - y)\n",
    "\n",
    "# Теперь посчитаем минимум для \"горизонтальных\" ходов.\n",
    "# Оптимальным столбцом является медиана\n",
    "median_col = round(median(x_coords))\n",
    "x_moves = sum([abs(x - median_col) for x in x_coords])\n",
    "\n",
    "\n",
    "print(x_moves + y_moves)"
   ]
  },
  {
   "cell_type": "code",
   "execution_count": 8,
   "id": "be3f1637",
   "metadata": {},
   "outputs": [
    {
     "name": "stdout",
     "output_type": "stream",
     "text": [
      "2\n"
     ]
    }
   ],
   "source": [
    "# Продавец рыбы\n",
    "\n",
    "_, k = list(map(int, input().split()))\n",
    "p = list(map(int, input().split()))\n",
    "\n",
    "res = -float('inf')\n",
    "for i, buy in enumerate(p[: -1]):\n",
    "    res = max(res, max(p[i + 1: i + k + 1]) - buy)\n",
    "\n",
    "print(max(0, res))"
   ]
  },
  {
   "cell_type": "markdown",
   "id": "3f585e2c",
   "metadata": {},
   "source": [
    "# 5-2-G Амбициозная улитка"
   ]
  },
  {
   "cell_type": "code",
   "execution_count": null,
   "id": "22a616be",
   "metadata": {},
   "outputs": [],
   "source": [
    "# Улитка\n",
    "\n",
    "n = int(input())\n",
    "\n",
    "pos_sum = 0 # Сумма разностей \"подъем минус падение\" для \"положительных\" ягод\n",
    "\n",
    "pos_i = [] # номера \"положительных\" ягод\n",
    "neg_i = [] # номера \"отрицательных\" ягод\n",
    "\n",
    "worst_down_pos = 0          # Наибольшее падение среди \"положительых\" ягод,\n",
    "worst_down_pos_i = 0        # номер ягоды с этим падением\n",
    "worst_down_pos_i_ind = -1   # и индекс этой ягоды в списке \"положительных\"\n",
    "\n",
    "best_up_neg = 0             # Наибольший подъем среди \"отрицательных\" ягод,\n",
    "best_up_neg_i = 0           # номер ягоды с таким подъемом\n",
    "best_up_neg_i_ind = -1      # # и индекс этой ягоды в списке \"отрицательных\"\n",
    "\n",
    "# В цикле будем принимать данные из стандартного ввода\n",
    "# и сразу их обрабатывать\n",
    "for i in range(n):\n",
    "    up, down = list(map(int, input().split()))\n",
    "    # Если ввели \"положительную\" ягоду\n",
    "    if (delta := up - down) > 0:  \n",
    "        # сохраним номер очередной \"положительной\" ягоды\n",
    "        pos_i.append(i + 1)\n",
    "        # учтем прирост от ягоды в общем приросте от \"положительных\" ягод\n",
    "        pos_sum += delta\n",
    "        # проверим на наибольшее падение среди \"положительных\" ягод\n",
    "        if worst_down_pos < down:\n",
    "            worst_down_pos = down\n",
    "            worst_down_pos_i = i + 1\n",
    "            worst_down_pos_i_ind = len(pos_i) - 1\n",
    "    else: # Если ввели \"отрицательную\" (либо \"нулевую\") ягоду,\n",
    "        # сохраним номер очередной \"отрицательной\" ягоды\n",
    "        neg_i.append(i + 1)\n",
    "        # проверим на наибольший подъем среди \"отрицательных\" ягод\n",
    "        if best_up_neg < up:\n",
    "            best_up_neg = up\n",
    "            best_up_neg_i = i + 1\n",
    "            best_up_neg_i_ind = len(neg_i) - 1\n",
    "\n",
    "# Если самый большой подъем \"отрицательной\" ягоды превосходит самое большое падение \"положительной\",\n",
    "if best_up_neg > worst_down_pos:\n",
    "    # то в максимальной высоте необходимо учесть такую \"отрицательную\" ягоду\n",
    "    print(pos_sum + best_up_neg)\n",
    "    print(*pos_i, best_up_neg_i, *neg_i[: best_up_neg_i_ind], *neg_i[best_up_neg_i_ind + 1:])\n",
    "# Иначе, вклад даже самого большого подъема \"отрицательной\" ягоды не имеет значения\n",
    "# и мы просто ставим положительную ягоду с максимальным падением в последней среди положительных\n",
    "else:\n",
    "    print(pos_sum + worst_down_pos)\n",
    "    print(*pos_i[: worst_down_pos_i_ind], *pos_i[worst_down_pos_i_ind + 1: ], worst_down_pos_i, *neg_i)"
   ]
  },
  {
   "cell_type": "markdown",
   "id": "d803a730",
   "metadata": {},
   "source": [
    "# 5-2-F Колесо фортуны"
   ]
  },
  {
   "cell_type": "code",
   "execution_count": 5,
   "id": "a6a257a8",
   "metadata": {},
   "outputs": [
    {
     "name": "stdout",
     "output_type": "stream",
     "text": [
      "3\n"
     ]
    }
   ],
   "source": [
    "# Колесо фортуны – решение с формулой\n",
    "\n",
    "n = int(input())\n",
    "values = list(map(int, input().split()))\n",
    "a, b, k = list(map(int, input().split()))\n",
    "\n",
    "# Сколько секторов мы сможем прокрутить при максимальной скорости\n",
    "x_max = (b - 1) // k\n",
    "x_min = (a - 1) // k\n",
    "\n",
    "# Если мы покрываем все сектора,\n",
    "if x_max - x_min >= n - 1:\n",
    "    print(max(values)) # то результат – максимум из исходных значений\n",
    "else:\n",
    "    x_min = x_min % n\n",
    "    x_max = x_max % n\n",
    "\n",
    "    if x_max < x_min:\n",
    "        print(max(\n",
    "            set(values[x_min: ] + values[: n - x_min + 1] + values[: x_max + 1] + values[n - x_max:])\n",
    "        ))\n",
    "    else:\n",
    "        print(max(\n",
    "            set(values[x_min: x_max + 1] + values[n - x_max: n - x_min + 1])\n",
    "        ))"
   ]
  },
  {
   "cell_type": "code",
   "execution_count": 2,
   "id": "c8a29953",
   "metadata": {},
   "outputs": [
    {
     "name": "stdout",
     "output_type": "stream",
     "text": [
      "5\n"
     ]
    }
   ],
   "source": [
    "# Колесо фортуны – решение с моделированием (цикл)\n",
    "\n",
    "n = int(input())\n",
    "values = list(map(int, input().split()))\n",
    "n_diff = len(set(values)) # Количество разных значений в секторах\n",
    "a, b, k = list(map(int, input().split()))\n",
    "\n",
    "scores = set()\n",
    "\n",
    "# Если мы имеем возможность остаться в исходном секторе,\n",
    "if a <= k:\n",
    "   # добавим счет исходного сектора \n",
    "   scores.add(values[0])\n",
    "\n",
    "# Теперь начнем моделировать вращение барабана с разными скоростями.\n",
    "# Имеет смысл рассматривать скорости выше порога k\n",
    "a = max(a, k + 1)\n",
    "# Крутим колесо в возможном дипапзоне скоростей с шагом k\n",
    "while a <= b:\n",
    "    # x – на сколько секторов повернется барабан\n",
    "    x = ((a - 1) // k) % n\n",
    "    # добавляем в множество возможных результатов\n",
    "    scores.add(values[x])  # сектор по часовой стрелке\n",
    "    scores.add(values[-x]) # и сектор против часовой стрелке\n",
    "    # Если мы отметили все возиможные результаты,\n",
    "    # дальше можно колесо не крутить\n",
    "    if len(scores) == n_diff:\n",
    "        break\n",
    "    a += k\n",
    "\n",
    "print(max(scores))"
   ]
  }
 ],
 "metadata": {
  "kernelspec": {
   "display_name": "Python 3",
   "language": "python",
   "name": "python3"
  },
  "language_info": {
   "codemirror_mode": {
    "name": "ipython",
    "version": 3
   },
   "file_extension": ".py",
   "mimetype": "text/x-python",
   "name": "python",
   "nbconvert_exporter": "python",
   "pygments_lexer": "ipython3",
   "version": "3.11.2"
  }
 },
 "nbformat": 4,
 "nbformat_minor": 5
}
