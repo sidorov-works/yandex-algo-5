{
 "cells": [
  {
   "cell_type": "markdown",
   "id": "47de4de0",
   "metadata": {},
   "source": [
    "# 5-2-A Минимальный прямоугольник"
   ]
  },
  {
   "cell_type": "code",
   "execution_count": null,
   "id": "dbe666c5",
   "metadata": {},
   "outputs": [],
   "source": [
    "k = int(input())\n",
    "\n",
    "l = b = float('inf')\n",
    "r = t = -float('inf')\n",
    "\n",
    "for _ in range(k):\n",
    "    x, y = list(map(int, input().split()))\n",
    "    l = min(l, x)\n",
    "    r = max(r, x)\n",
    "    b = min(b, y)\n",
    "    t = max(t, y)\n",
    "\n",
    "print(l, b, r, t)"
   ]
  },
  {
   "cell_type": "markdown",
   "id": "bb4a3ed6",
   "metadata": {},
   "source": [
    "# 5-2-B Продавец рыбы"
   ]
  },
  {
   "cell_type": "code",
   "execution_count": 8,
   "id": "be3f1637",
   "metadata": {},
   "outputs": [
    {
     "name": "stdout",
     "output_type": "stream",
     "text": [
      "2\n"
     ]
    }
   ],
   "source": [
    "# Продавец рыбы\n",
    "\n",
    "_, k = list(map(int, input().split()))\n",
    "p = list(map(int, input().split()))\n",
    "\n",
    "res = -float('inf')\n",
    "for i, buy in enumerate(p[: -1]):\n",
    "    res = max(res, max(p[i + 1: i + k + 1]) - buy)\n",
    "\n",
    "print(max(0, res))"
   ]
  },
  {
   "cell_type": "markdown",
   "id": "757df775",
   "metadata": {},
   "source": [
    "# 5-2-C Петя, Маша и верёвочки"
   ]
  },
  {
   "cell_type": "code",
   "execution_count": null,
   "id": "cc2c038c",
   "metadata": {},
   "outputs": [],
   "source": [
    "n = int(input())\n",
    "L = list(map(int, input().split()))\n",
    "\n",
    "l_sum = 0\n",
    "l_max = 0\n",
    "for l in L:\n",
    "    l_max = max(l, l_max)\n",
    "    l_sum += l\n",
    "\n",
    "# Если нерезаная веревка осталась на столе\n",
    "if l_max > l_sum - l_max:\n",
    "    print(2 * l_max - l_sum)\n",
    "else:\n",
    "    print(l_sum)"
   ]
  },
  {
   "cell_type": "markdown",
   "id": "4db8700f",
   "metadata": {},
   "source": [
    "# 5-2-D Шахматная доска"
   ]
  },
  {
   "cell_type": "code",
   "execution_count": null,
   "id": "6310df4c",
   "metadata": {},
   "outputs": [],
   "source": [
    "n = int(input())\n",
    "crd = []\n",
    "for _ in range(n):\n",
    "    crd.append(list(map(int, input().split())))\n",
    "\n",
    "res = 0\n",
    "ofs = [[1, 0], [-1, 0], [0, 1], [0, -1]]\n",
    "for c in crd:\n",
    "    res += 4 - sum([[c[0] + o[0], c[1] + o[1]] in crd for o in ofs])\n",
    "print(res)"
   ]
  },
  {
   "cell_type": "markdown",
   "id": "3f585e2c",
   "metadata": {},
   "source": [
    "# 5-2-E Амбициозная улитка"
   ]
  },
  {
   "cell_type": "code",
   "execution_count": null,
   "id": "22a616be",
   "metadata": {},
   "outputs": [],
   "source": [
    "# Улитка\n",
    "\n",
    "n = int(input())\n",
    "\n",
    "pos_sum = 0 # Сумма разностей \"подъем минус падение\" для \"положительных\" ягод\n",
    "\n",
    "pos_i = [] # номера \"положительных\" ягод\n",
    "neg_i = [] # номера \"отрицательных\" ягод\n",
    "\n",
    "worst_down_pos = 0          # Наибольшее падение среди \"положительых\" ягод,\n",
    "worst_down_pos_i = 0        # номер ягоды с этим падением\n",
    "worst_down_pos_i_ind = -1   # и индекс этой ягоды в списке \"положительных\"\n",
    "\n",
    "best_up_neg = 0             # Наибольший подъем среди \"отрицательных\" ягод,\n",
    "best_up_neg_i = 0           # номер ягоды с таким подъемом\n",
    "best_up_neg_i_ind = -1      # # и индекс этой ягоды в списке \"отрицательных\"\n",
    "\n",
    "# В цикле будем принимать данные из стандартного ввода\n",
    "# и сразу их обрабатывать\n",
    "for i in range(n):\n",
    "    up, down = list(map(int, input().split()))\n",
    "    # Если ввели \"положительную\" ягоду\n",
    "    if (delta := up - down) > 0:  \n",
    "        # сохраним номер очередной \"положительной\" ягоды\n",
    "        pos_i.append(i + 1)\n",
    "        # учтем прирост от ягоды в общем приросте от \"положительных\" ягод\n",
    "        pos_sum += delta\n",
    "        # проверим на наибольшее падение среди \"положительных\" ягод\n",
    "        if worst_down_pos < down:\n",
    "            worst_down_pos = down\n",
    "            worst_down_pos_i = i + 1\n",
    "            worst_down_pos_i_ind = len(pos_i) - 1\n",
    "    else: # Если ввели \"отрицательную\" (либо \"нулевую\") ягоду,\n",
    "        # сохраним номер очередной \"отрицательной\" ягоды\n",
    "        neg_i.append(i + 1)\n",
    "        # проверим на наибольший подъем среди \"отрицательных\" ягод\n",
    "        if best_up_neg < up:\n",
    "            best_up_neg = up\n",
    "            best_up_neg_i = i + 1\n",
    "            best_up_neg_i_ind = len(neg_i) - 1\n",
    "\n",
    "# Если самый большой подъем \"отрицательной\" ягоды превосходит самое большое падение \"положительной\",\n",
    "if best_up_neg > worst_down_pos:\n",
    "    # то в максимальной высоте необходимо учесть такую \"отрицательную\" ягоду\n",
    "    print(pos_sum + best_up_neg)\n",
    "    print(*pos_i, best_up_neg_i, *neg_i[: best_up_neg_i_ind], *neg_i[best_up_neg_i_ind + 1:])\n",
    "# Иначе, вклад даже самого большого подъема \"отрицательной\" ягоды не имеет значения\n",
    "# и мы просто ставим положительную ягоду с максимальным падением в последней среди положительных\n",
    "else:\n",
    "    print(pos_sum + worst_down_pos)\n",
    "    print(*pos_i[: worst_down_pos_i_ind], *pos_i[worst_down_pos_i_ind + 1: ], worst_down_pos_i, *neg_i)"
   ]
  },
  {
   "cell_type": "markdown",
   "id": "d803a730",
   "metadata": {},
   "source": [
    "# 5-2-F Колесо фортуны"
   ]
  },
  {
   "cell_type": "code",
   "execution_count": 5,
   "id": "a6a257a8",
   "metadata": {},
   "outputs": [
    {
     "name": "stdout",
     "output_type": "stream",
     "text": [
      "3\n"
     ]
    }
   ],
   "source": [
    "# Колесо фортуны – решение с формулой\n",
    "\n",
    "n = int(input())\n",
    "values = list(map(int, input().split()))\n",
    "a, b, k = list(map(int, input().split()))\n",
    "\n",
    "# Сколько секторов мы сможем прокрутить при максимальной скорости\n",
    "x_max = (b - 1) // k\n",
    "x_min = (a - 1) // k\n",
    "\n",
    "# Если мы покрываем все сектора,\n",
    "if x_max - x_min >= n - 1:\n",
    "    print(max(values)) # то результат – максимум из исходных значений\n",
    "else:\n",
    "    x_min = x_min % n\n",
    "    x_max = x_max % n\n",
    "\n",
    "    if x_max < x_min:\n",
    "        print(max(\n",
    "            set(values[x_min: ] + values[: n - x_min + 1] + values[: x_max + 1] + values[n - x_max:])\n",
    "        ))\n",
    "    else:\n",
    "        print(max(\n",
    "            set(values[x_min: x_max + 1] + values[n - x_max: n - x_min + 1])\n",
    "        ))"
   ]
  },
  {
   "cell_type": "code",
   "execution_count": 2,
   "id": "c8a29953",
   "metadata": {},
   "outputs": [
    {
     "name": "stdout",
     "output_type": "stream",
     "text": [
      "5\n"
     ]
    }
   ],
   "source": [
    "# Колесо фортуны – решение с моделированием (цикл)\n",
    "\n",
    "n = int(input())\n",
    "values = list(map(int, input().split()))\n",
    "n_diff = len(set(values)) # Количество разных значений в секторах\n",
    "a, b, k = list(map(int, input().split()))\n",
    "\n",
    "scores = set()\n",
    "\n",
    "# Если мы имеем возможность остаться в исходном секторе,\n",
    "if a <= k:\n",
    "   # добавим счет исходного сектора \n",
    "   scores.add(values[0])\n",
    "\n",
    "# Теперь начнем моделировать вращение барабана с разными скоростями.\n",
    "# Имеет смысл рассматривать скорости выше порога k\n",
    "a = max(a, k + 1)\n",
    "# Крутим колесо в возможном дипапзоне скоростей с шагом k\n",
    "while a <= b:\n",
    "    # x – на сколько секторов повернется барабан\n",
    "    x = ((a - 1) // k) % n\n",
    "    # добавляем в множество возможных результатов\n",
    "    scores.add(values[x])  # сектор по часовой стрелке\n",
    "    scores.add(values[-x]) # и сектор против часовой стрелке\n",
    "    # Если мы отметили все возиможные результаты,\n",
    "    # дальше можно колесо не крутить\n",
    "    if len(scores) == n_diff:\n",
    "        break\n",
    "    a += k\n",
    "\n",
    "print(max(scores))"
   ]
  },
  {
   "cell_type": "markdown",
   "id": "5624a9de",
   "metadata": {},
   "source": [
    "# 5-2-G Ни больше, ни меньше"
   ]
  },
  {
   "cell_type": "code",
   "execution_count": null,
   "id": "696e4bb3",
   "metadata": {},
   "outputs": [],
   "source": [
    "t = int(input())\n",
    "\n",
    "nums_input = []\n",
    "for _ in range(t):\n",
    "    input() # input n\n",
    "    nums_input.append(list(map(int, input().split())))\n",
    "for nums in nums_input:\n",
    "    lens = [1,]\n",
    "    max_len = nums[0]\n",
    "    for num in nums[1: ]:\n",
    "        if num > lens[-1] and lens[-1] < max_len:\n",
    "            lens[-1] += 1\n",
    "            max_len = min(max_len, num)\n",
    "        else:\n",
    "            lens.append(1)\n",
    "            max_len = num\n",
    "    print(len(lens))\n",
    "    print(*lens)"
   ]
  },
  {
   "cell_type": "markdown",
   "id": "dd4ddfa5",
   "metadata": {},
   "source": [
    "# 5-2-H Наилучший запрет"
   ]
  },
  {
   "cell_type": "code",
   "execution_count": null,
   "id": "d857b87f",
   "metadata": {},
   "outputs": [],
   "source": [
    "from heapq import nlargest\n",
    "\n",
    "n, m = list(map(int, input().split()))\n",
    "\n",
    "# При построчном считывании матрицы будем запоминать данные\n",
    "# в список, каждый элемент которого также будет списком: \n",
    "nums = [] # [[значение, строка, столбец],]\n",
    "for i in range(n):\n",
    "    row = list(map(int, input().split()))\n",
    "    for j, num in enumerate(row):\n",
    "        nums.append([num, i, j])\n",
    "\n",
    "# Определим и запомним n + m наибольших элементов\n",
    "k_largest = nlargest(m + n, nums, key=lambda x: x[0])\n",
    "\n",
    "# Теперь рассмотрим два варианта:\n",
    "# а) Запретить строку, содержащую максимальное значение.\n",
    "#    Потом запретить столбец, содержащий максимальное значение из уцелевших n + m максимумов.\n",
    "#    Запомнить максимальное значение из уцелевших после двух запретов n + m максимумов\n",
    "# b) Запретить столбец, содержащий максимальное значение.\n",
    "#    Потом запретить строку, содержащую максимальное значение из уцелевших n + m максимумов\n",
    "#    Запомнить максимальное значение из уцелевших после двух запретов n + m максимумов\n",
    "\n",
    "# a) \n",
    "row_to_drop_first = k_largest[0][1]\n",
    "k_largest_upd = [x for x in k_largest if x[1] != row_to_drop_first]\n",
    "col_to_drop_second = k_largest_upd[0][2]\n",
    "k_largest_upd = [x for x in k_largest_upd if x[2] != col_to_drop_second]\n",
    "max_a = k_largest_upd[0][0]\n",
    "\n",
    "# b) \n",
    "col_to_drop_first = k_largest[0][2]\n",
    "k_largest_upd = [x for x in k_largest if x[2] != col_to_drop_first]\n",
    "row_to_drop_second = k_largest_upd[0][1]\n",
    "k_largest_upd = [x for x in k_largest_upd if x[1] != row_to_drop_second]\n",
    "max_b = k_largest_upd[0][0]\n",
    "\n",
    "# Выбираем вариант, при котором оставшийся максимум будет наименьшим\n",
    "if max_a < max_b:\n",
    "    print(row_to_drop_first + 1, col_to_drop_second + 1)\n",
    "else:\n",
    "    print(row_to_drop_second + 1, col_to_drop_first + 1)"
   ]
  },
  {
   "cell_type": "markdown",
   "id": "1b111640",
   "metadata": {},
   "source": [
    "# 5-2-I Пираты Баренцева моря"
   ]
  },
  {
   "cell_type": "code",
   "execution_count": null,
   "id": "4e338438",
   "metadata": {},
   "outputs": [],
   "source": [
    "from statistics import median\n",
    "\n",
    "n = int(input())\n",
    "\n",
    "# Сохраним по отдельности массивы с координатами по гориз. и вертикали\n",
    "y_coords = []\n",
    "x_coords = []\n",
    "for _ in range(n):\n",
    "    coord = list(map(int, input().split()))\n",
    "    x_coords.append(coord[1] - 1)\n",
    "    y_coords.append(coord[0] - 1)\n",
    "\n",
    "y_moves = 0\n",
    "\n",
    "# Для начала разберемся с \"вертикальными\" ходами:\n",
    "# каждый корабль должен встать в ту строку, к которой он ближе\n",
    "y_coords.sort()\n",
    "for i, y in enumerate(y_coords):\n",
    "    y_moves += abs(i - y)\n",
    "\n",
    "# Теперь посчитаем минимум для \"горизонтальных\" ходов.\n",
    "# Оптимальным столбцом является медиана\n",
    "median_col = round(median(x_coords))\n",
    "x_moves = sum([abs(x - median_col) for x in x_coords])\n",
    "\n",
    "print(x_moves + y_moves)"
   ]
  },
  {
   "cell_type": "markdown",
   "id": "5156adc2",
   "metadata": {},
   "source": [
    "# 5-2-J Два прямоугольника"
   ]
  },
  {
   "cell_type": "code",
   "execution_count": null,
   "id": "5ff48c52",
   "metadata": {},
   "outputs": [],
   "source": [
    "m, n = list(map(int, input().split()))\n",
    "\n",
    "hash_start_from = -1\n",
    "hash_ends_at = -1\n",
    "n_hash_total = 0\n",
    "\n",
    "hash_min_left = float('inf') \n",
    "hash_max_right = -1\n",
    "\n",
    "lines = []\n",
    "for i in range(m):\n",
    "    line = input()\n",
    "    lines.append(line)\n",
    "    n_hash = line.count('#')\n",
    "    if n_hash:\n",
    "        n_hash_total += n_hash\n",
    "\n",
    "        hash_min_left = min(hash_min_left, line.index('#'))\n",
    "        hash_max_right = max(hash_max_right, line.rindex('#'))\n",
    "\n",
    "        hash_ends_at = i\n",
    "        if hash_start_from == -1:\n",
    "            hash_start_from = i\n",
    "\n",
    "def act(lines, n_hash_total, hash_start_from, n, m):\n",
    "\n",
    "    # Если закрашенная клетка всего одна или их нет совсем\n",
    "    if n_hash_total <= 1:\n",
    "        return None\n",
    "\n",
    "    lines = lines.copy()\n",
    "\n",
    "    n_checked = 0\n",
    "    line = lines[hash_start_from]\n",
    "    left = line.find('#')\n",
    "    right = line.find('.', left)\n",
    "    if(right == -1):\n",
    "        right = n\n",
    "    tmp = line[left: right]\n",
    "    len_tmp = right - left\n",
    "    lines[hash_start_from] = line[:left] + 'a' * len_tmp + line[right:]\n",
    "    n_checked += len_tmp\n",
    "\n",
    "    # Если все закрашенные клетки оказались в одной строке (и идут подряд)\n",
    "    if n_checked == n_hash_total:\n",
    "        lines[hash_start_from] = lines[hash_start_from].replace('a', 'b', 1)\n",
    "        return lines\n",
    "\n",
    "    # Если есть еще закрашенные клетки (т.е. не в единственной строке)\n",
    "\n",
    "    for i, line in enumerate(lines[hash_start_from + 1: ]):\n",
    "        if line[left: right] == tmp:\n",
    "            lines[hash_start_from + i + 1] = line[:left] + 'a' * len_tmp + line[right:]\n",
    "            n_checked += len_tmp\n",
    "        else:\n",
    "            break\n",
    "\n",
    "    if n_checked == n_hash_total:\n",
    "        lines[hash_start_from] = lines[hash_start_from].replace('a', 'b')\n",
    "        return lines\n",
    "\n",
    "    # Начинаем искать второй прямоугольник\n",
    "    j = hash_start_from\n",
    "    while '#' not in lines[j]:\n",
    "        j += 1\n",
    "    line = lines[j]\n",
    "    left = line.find('#')\n",
    "\n",
    "    right_dot = line.find('.', left)\n",
    "    if(right_dot == -1):\n",
    "        right_dot = n\n",
    "    right_a = line.find('a', left)\n",
    "    if(right_a == -1):\n",
    "        right_a = n\n",
    "    right = min(right_a, right_dot)\n",
    "    \n",
    "    tmp = line[left: right]\n",
    "    len_tmp = right - left\n",
    "    lines[j] = line[:left] + 'b' * len_tmp + line[right:]\n",
    "    n_checked += len_tmp\n",
    "\n",
    "    for i, line in enumerate(lines[j + 1:]):\n",
    "        if line[left: right] == tmp:\n",
    "            lines[j + i + 1] = line[:left] + 'b' * len_tmp + line[right:]\n",
    "            n_checked += len_tmp\n",
    "        else:\n",
    "            break\n",
    "    \n",
    "    if n_checked == n_hash_total:\n",
    "        return lines\n",
    "    else:\n",
    "        return None\n",
    "    \n",
    "res = act(lines, n_hash_total, hash_start_from, n, m)\n",
    "if not res:\n",
    "    res = act(list(map(''.join, (zip(*lines)))), n_hash_total, hash_min_left, m, n)\n",
    "    if res:\n",
    "        print('YES')\n",
    "        print(*list(map(''.join, (zip(*res)))), sep='\\n')\n",
    "    else:\n",
    "        print('NO')\n",
    "else:\n",
    "    print('YES')\n",
    "    print(*res, sep='\\n')"
   ]
  }
 ],
 "metadata": {
  "kernelspec": {
   "display_name": "Python 3",
   "language": "python",
   "name": "python3"
  },
  "language_info": {
   "codemirror_mode": {
    "name": "ipython",
    "version": 3
   },
   "file_extension": ".py",
   "mimetype": "text/x-python",
   "name": "python",
   "nbconvert_exporter": "python",
   "pygments_lexer": "ipython3",
   "version": "3.11.2"
  }
 },
 "nbformat": 4,
 "nbformat_minor": 5
}
