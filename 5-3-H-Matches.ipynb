{
 "cells": [
  {
   "cell_type": "markdown",
   "id": "47de4de0",
   "metadata": {},
   "source": [
    "# 5-3-H Спички детям не игрушка!"
   ]
  },
  {
   "cell_type": "code",
   "execution_count": null,
   "id": "dd50c326",
   "metadata": {},
   "outputs": [],
   "source": [
    "from collections import Counter\n",
    "\n",
    "with open('test/input-5-3-H.txt', mode='r') as f:\n",
    "\n",
    "    n = int(f.readline())\n",
    "\n",
    "    A, B = [], []\n",
    "    for fig in [A, B]:\n",
    "        for _ in range(n):\n",
    "            m = list(map(int, f.readline().split()))\n",
    "            start = (m[0], m[1])\n",
    "            end = (m[2], m[3])\n",
    "            # Унифицируем направление спички (спичка (a, b) = спичка (b, a))\n",
    "            if start[1] > end[1] or (start[1] == end[1] and end[0] < start[0]):\n",
    "                start, end = end, start\n",
    "            vector = (end[0] - start[0], end[1] - start[1])\n",
    "            #fig.append((start, vector))\n",
    "            fig.append((start, end))\n",
    "\n",
    "res_counter = Counter()\n",
    "\n",
    "for m_a in A:\n",
    "    for m_b in B:\n",
    "        offset = (\n",
    "            (m_b[0][0] - m_a[0][0], m_b[0][1] - m_a[0][1]), \n",
    "            (m_b[1][0] - m_a[1][0], m_b[1][1] - m_a[1][1])\n",
    "        )\n",
    "        if offset[0] == offset[1]:\n",
    "            res_counter[offset[0]] += 1\n",
    "\n",
    "same = res_counter.most_common(1)[0][1] if len(res_counter) else 0\n",
    "print(n - same)"
   ]
  }
 ],
 "metadata": {
  "kernelspec": {
   "display_name": "Python 3",
   "language": "python",
   "name": "python3"
  },
  "language_info": {
   "codemirror_mode": {
    "name": "ipython",
    "version": 3
   },
   "file_extension": ".py",
   "mimetype": "text/x-python",
   "name": "python",
   "nbconvert_exporter": "python",
   "pygments_lexer": "ipython3",
   "version": "3.11.2"
  }
 },
 "nbformat": 4,
 "nbformat_minor": 5
}
